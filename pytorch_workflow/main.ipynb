{
 "cells": [
  {
   "cell_type": "code",
   "execution_count": 300,
   "metadata": {},
   "outputs": [
    {
     "data": {
      "text/plain": [
       "'2.0.1'"
      ]
     },
     "execution_count": 300,
     "metadata": {},
     "output_type": "execute_result"
    }
   ],
   "source": [
    "#pytorch end to end workflow\n",
    "import torch\n",
    "from torch import nn ##nn contains all of pytorchs building blcoks for neural networks\n",
    "import matplotlib.pyplot as plt \n",
    "\n",
    "#check pytorch version\n",
    "torch.__version__"
   ]
  },
  {
   "cell_type": "markdown",
   "metadata": {},
   "source": [
    "## 1.data prep and loading "
   ]
  },
  {
   "cell_type": "markdown",
   "metadata": {},
   "source": [
    "dta can be almost everything\n",
    "* excel spreadsheet\n",
    "* images\n",
    "* videoes\n",
    "* audio\n",
    "* DNA\n",
    "* text\n",
    "\n",
    "machien laerning is game of two parts:\n",
    "1. get data intoa numerical respresentation\n",
    "2. build a model to learn the parttersn of the numerical rep\n",
    "\n",
    "we'll be using the classic linear regression Y = a + bX\n",
    "to make a straight line with known **parameters**"
   ]
  },
  {
   "cell_type": "code",
   "execution_count": 301,
   "metadata": {},
   "outputs": [
    {
     "data": {
      "text/plain": [
       "(tensor([[0.0000],\n",
       "         [0.0200],\n",
       "         [0.0400],\n",
       "         [0.0600],\n",
       "         [0.0800],\n",
       "         [0.1000],\n",
       "         [0.1200],\n",
       "         [0.1400],\n",
       "         [0.1600],\n",
       "         [0.1800]]),\n",
       " tensor([[0.3000],\n",
       "         [0.3140],\n",
       "         [0.3280],\n",
       "         [0.3420],\n",
       "         [0.3560],\n",
       "         [0.3700],\n",
       "         [0.3840],\n",
       "         [0.3980],\n",
       "         [0.4120],\n",
       "         [0.4260]]))"
      ]
     },
     "execution_count": 301,
     "metadata": {},
     "output_type": "execute_result"
    }
   ],
   "source": [
    "#create the knwon parameters\n",
    "weight = 0.7\n",
    "bias = 0.3\n",
    "\n",
    "#create\n",
    "start = 0 \n",
    "end = 1 \n",
    "step = 0.02\n",
    "X = torch.arange(start, end, step).unsqueeze(dim=1)\n",
    "\n",
    "y = weight * X + bias # y = bx + a => linear reg formula \n",
    "\n",
    "X[:10], y[:10]"
   ]
  },
  {
   "cell_type": "code",
   "execution_count": 302,
   "metadata": {},
   "outputs": [
    {
     "data": {
      "text/plain": [
       "(50, 50)"
      ]
     },
     "execution_count": 302,
     "metadata": {},
     "output_type": "execute_result"
    }
   ],
   "source": [
    "len(X), len(y)"
   ]
  },
  {
   "cell_type": "code",
   "execution_count": 303,
   "metadata": {},
   "outputs": [],
   "source": [
    "#now we have to train a model to learn relationship of X with y \n",
    "#now splitting data into traingin and test set\n",
    "# trainign set - base learning (60-80%) (alaways)\n",
    "# validation set -tuning   ( 10-20%) (often)\n",
    "# test set - final (10-20%) (awlays)"
   ]
  },
  {
   "cell_type": "code",
   "execution_count": 304,
   "metadata": {},
   "outputs": [
    {
     "data": {
      "text/plain": [
       "(40, 40, 10, 10)"
      ]
     },
     "execution_count": 304,
     "metadata": {},
     "output_type": "execute_result"
    }
   ],
   "source": [
    "#nwo we wont be usign a validation set thereore\n",
    "train_split = int(0.8 * len(X))\n",
    "X_train, y_train = X[:train_split], y[:train_split]\n",
    "X_test, y_test  = X[train_split:], y[train_split:]\n",
    "\n",
    "len(X_train), len(y_train), len(X_test), len(y_test)\n",
    "#you can also use scikit learn train_test_splits for randomness"
   ]
  },
  {
   "cell_type": "code",
   "execution_count": 305,
   "metadata": {},
   "outputs": [],
   "source": [
    "#now to visualizevisualizevisualize visualizevisualize visualize\n",
    "def plot_predictions( train_data = X_train,\n",
    "                     train_labels = y_train,\n",
    "                     test_data = X_test,\n",
    "                     test_labels = y_test,\n",
    "                     predictions = None):\n",
    "    \"\"\"\n",
    "    Plot training data, test data nd compares predictions.\n",
    "    \"\"\"\n",
    "    plt.figure(figsize = (10,7))\n",
    "    #plot traing data in blue\n",
    "    plt.scatter(train_data, train_labels , c = 'b', s =4 , label = \"training data\")\n",
    "\n",
    "    plt.scatter(test_data, test_labels, c= 'r', s=4, label = \"testing data\")\n",
    "\n",
    "    if predictions is not None:\n",
    "        #plot the preds\n",
    "        plt.scatter(test_data, predictions, c = 'g', s =4, label = \"Preds\")\n",
    "\n",
    "    #show the legend\n",
    "    plt.legend(prop = {\"size\": 14})"
   ]
  },
  {
   "cell_type": "code",
   "execution_count": 306,
   "metadata": {},
   "outputs": [
    {
     "data": {
      "image/png": "[encoded data removed]",
      "text/plain": [
       "<Figure size 1000x700 with 1 Axes>"
      ]
     },
     "metadata": {},
     "output_type": "display_data"
    }
   ],
   "source": [
    "plot_predictions()"
   ]
  },
  {
   "cell_type": "code",
   "execution_count": 307,
   "metadata": {},
   "outputs": [],
   "source": [
    "#red is actual value lets pred the values to plot the green dots\n",
    "#bulding our model\n",
    "#creating a linear regression formula in pytorch\n",
    "from torch import nn #has building blocks for neural netwroks\n",
    "class LinearRegressionModel(nn.Module): #<- out model inherits nn.modele\n",
    "    def __init__(self):\n",
    "        super().__init__()\n",
    "        self.weights = nn.Parameter(torch.randn(1,\n",
    "                                                requires_grad=True,\n",
    "                                                dtype=torch.float32)) #dfeualt for pytorch\n",
    "        self.bias = nn.Parameter(torch.randn(1,\n",
    "                                            requires_grad=True,\n",
    "                                            dtype=torch.float32))\n",
    "    def forward(self, x: torch.Tensor) -> torch.Tensor: #<- x is the input /training data\n",
    "        return self.weights * x + self.bias #this is the linear reg formula \n",
    "\n"
   ]
  },
  {
   "cell_type": "code",
   "execution_count": 308,
   "metadata": {},
   "outputs": [
    {
     "data": {
      "text/plain": [
       "tensor([0.2345])"
      ]
     },
     "execution_count": 308,
     "metadata": {},
     "output_type": "execute_result"
    }
   ],
   "source": [
    "torch.randn(1)"
   ]
  },
  {
   "cell_type": "code",
   "execution_count": 309,
   "metadata": {},
   "outputs": [
    {
     "data": {
      "text/plain": [
       "[Parameter containing:\n",
       " tensor([0.3367], requires_grad=True),\n",
       " Parameter containing:\n",
       " tensor([0.1288], requires_grad=True)]"
      ]
     },
     "execution_count": 309,
     "metadata": {},
     "output_type": "execute_result"
    }
   ],
   "source": [
    "### checking the contents of our pytorch model using '.parameters'\n",
    "\n",
    "#creating a rnadom seed for producibility \n",
    "# torch.manual_seed(123412) #shitest random seed ive seen #loss wont go below 0.1 :(\n",
    "torch.manual_seed(42)\n",
    "#create an instance of th emodel (this is a subclass of nn.module)\n",
    "model_0 = LinearRegressionModel()\n",
    "\n",
    "list(model_0.parameters())"
   ]
  },
  {
   "cell_type": "code",
   "execution_count": 310,
   "metadata": {},
   "outputs": [
    {
     "data": {
      "text/plain": [
       "OrderedDict([('weights', tensor([0.3367])), ('bias', tensor([0.1288]))])"
      ]
     },
     "execution_count": 310,
     "metadata": {},
     "output_type": "execute_result"
    }
   ],
   "source": [
    "#list the named parameters\n",
    "model_0.state_dict() #state dictionary"
   ]
  },
  {
   "cell_type": "code",
   "execution_count": 311,
   "metadata": {},
   "outputs": [
    {
     "data": {
      "text/plain": [
       "(tensor([[0.8000],\n",
       "         [0.8200],\n",
       "         [0.8400],\n",
       "         [0.8600],\n",
       "         [0.8800],\n",
       "         [0.9000],\n",
       "         [0.9200],\n",
       "         [0.9400],\n",
       "         [0.9600],\n",
       "         [0.9800]]),\n",
       " tensor([[0.8600],\n",
       "         [0.8740],\n",
       "         [0.8880],\n",
       "         [0.9020],\n",
       "         [0.9160],\n",
       "         [0.9300],\n",
       "         [0.9440],\n",
       "         [0.9580],\n",
       "         [0.9720],\n",
       "         [0.9860]]))"
      ]
     },
     "execution_count": 311,
     "metadata": {},
     "output_type": "execute_result"
    }
   ],
   "source": [
    "X_test, y_test"
   ]
  },
  {
   "cell_type": "code",
   "execution_count": 312,
   "metadata": {},
   "outputs": [
    {
     "data": {
      "text/plain": [
       "tensor([[0.3982],\n",
       "        [0.4049],\n",
       "        [0.4116],\n",
       "        [0.4184],\n",
       "        [0.4251],\n",
       "        [0.4318],\n",
       "        [0.4386],\n",
       "        [0.4453],\n",
       "        [0.4520],\n",
       "        [0.4588]], grad_fn=<AddBackward0>)"
      ]
     },
     "execution_count": 312,
     "metadata": {},
     "output_type": "execute_result"
    }
   ],
   "source": [
    "y_preds = model_0(X_test)\n",
    "y_preds\n",
    "#u can see the last line it i tracking grad"
   ]
  },
  {
   "cell_type": "code",
   "execution_count": 313,
   "metadata": {},
   "outputs": [
    {
     "data": {
      "text/plain": [
       "tensor([[0.3982],\n",
       "        [0.4049],\n",
       "        [0.4116],\n",
       "        [0.4184],\n",
       "        [0.4251],\n",
       "        [0.4318],\n",
       "        [0.4386],\n",
       "        [0.4453],\n",
       "        [0.4520],\n",
       "        [0.4588]])"
      ]
     },
     "execution_count": 313,
     "metadata": {},
     "output_type": "execute_result"
    }
   ],
   "source": [
    "#making predictions using torch.inference_mode() WITHOUT TRAINING\n",
    "#to check our models predictive power\n",
    "with torch.inference_mode():\n",
    "    y_preds = model_0(X_test)\n",
    "#inference mode turns of gradient tracking # doesn have to track gradident therefore faster predictions\n",
    "y_preds\n"
   ]
  },
  {
   "cell_type": "code",
   "execution_count": 314,
   "metadata": {},
   "outputs": [
    {
     "data": {
      "image/png": "[encoded data removed]",
      "text/plain": [
       "<Figure size 1000x700 with 1 Axes>"
      ]
     },
     "metadata": {},
     "output_type": "display_data"
    }
   ],
   "source": [
    "plot_predictions(predictions=y_preds)\n",
    "#are as good as random"
   ]
  },
  {
   "cell_type": "code",
   "execution_count": 315,
   "metadata": {},
   "outputs": [
    {
     "data": {
      "text/plain": [
       "OrderedDict([('weights', tensor([0.3367])), ('bias', tensor([0.1288]))])"
      ]
     },
     "execution_count": 315,
     "metadata": {},
     "output_type": "execute_result"
    }
   ],
   "source": [
    "#trainign our model\n",
    "#ie moving from random parameters to some traininged / betteer representation\n",
    "model_0.state_dict()\n"
   ]
  },
  {
   "cell_type": "code",
   "execution_count": 316,
   "metadata": {},
   "outputs": [
    {
     "data": {
      "text/plain": [
       "[Parameter containing:\n",
       " tensor([0.3367], requires_grad=True),\n",
       " Parameter containing:\n",
       " tensor([0.1288], requires_grad=True)]"
      ]
     },
     "execution_count": 316,
     "metadata": {},
     "output_type": "execute_result"
    }
   ],
   "source": [
    "list(model_0.parameters())"
   ]
  },
  {
   "cell_type": "code",
   "execution_count": 317,
   "metadata": {},
   "outputs": [],
   "source": [
    " #we need  to setup a loss/criterion function and an optimizer\n",
    "#setting up a loss funciont\n",
    "loss_fn = nn.L1Loss() #mae and mse for regression and binary/ categorical  cross entrpy for classification\n",
    "#setting up an optimizer fc\n",
    "optimizer = torch.optim.SGD(params= model_0.parameters(),\n",
    "                            lr = 0.01)\n",
    "# lr is one of the most import hyperparameter u can set #hyper paras are paras set by coder\n",
    "#stastic gd is random gd ie it finds the local minima instead of global minima which is incrediblity hard to find\n"
   ]
  },
  {
   "cell_type": "code",
   "execution_count": 318,
   "metadata": {},
   "outputs": [],
   "source": [
    "#we need to nuild a training looop and testing loop in pytrch\n",
    "#list of things to do\n",
    "# 0. loop thorugh the data\n",
    "# 1. forward pass (this invlies data movign through our model's `forward()` fiunciton)\n",
    "# also called forward propogation\n",
    "# 2.claculate the loss ( compaae foward pass preedicitions to ground turth labels)\n",
    "# 3. optimizer zerp grad\n",
    "# 4. loss backward - move backwards  thorguh the networks to calc the gradients of the each of the paramter of oour models iwth respect ot the loss backwards propogation\n",
    "# 5 .optimizer step - optimer to adjust our paramters to redce the loss (grdient descent)\n"
   ]
  },
  {
   "cell_type": "code",
   "execution_count": 319,
   "metadata": {},
   "outputs": [],
   "source": [
    "# with torch.inference_mode():\n",
    "#     pass\n",
    "# with torch.eval():\n",
    "#     pass"
   ]
  },
  {
   "cell_type": "code",
   "execution_count": null,
   "metadata": {},
   "outputs": [],
   "source": []
  },
  {
   "cell_type": "code",
   "execution_count": 320,
   "metadata": {},
   "outputs": [
    {
     "name": "stdout",
     "output_type": "stream",
     "text": [
      "loss: 0.31288138031959534\n",
      "Epoch: 0 | Loss: 0.31288138031959534 | Test loss: 0.48106518387794495\n",
      "OrderedDict([('weights', tensor([0.3406])), ('bias', tensor([0.1388]))])\n",
      "loss: 0.3013603389263153\n",
      "loss: 0.28983935713768005\n",
      "loss: 0.2783183455467224\n",
      "loss: 0.26679736375808716\n",
      "loss: 0.2552763521671295\n",
      "loss: 0.24375534057617188\n",
      "loss: 0.23223432898521423\n",
      "loss: 0.22071333229541779\n",
      "loss: 0.20919232070446014\n",
      "loss: 0.1976713240146637\n",
      "Epoch: 10 | Loss: 0.1976713240146637 | Test loss: 0.3463551998138428\n",
      "OrderedDict([('weights', tensor([0.3796])), ('bias', tensor([0.2388]))])\n",
      "loss: 0.18615034222602844\n",
      "loss: 0.1746293306350708\n",
      "loss: 0.16310831904411316\n",
      "loss: 0.1515873372554779\n",
      "loss: 0.14006635546684265\n",
      "loss: 0.1285453587770462\n",
      "loss: 0.11702437698841095\n",
      "loss: 0.1060912236571312\n",
      "loss: 0.09681284427642822\n",
      "loss: 0.08908725529909134\n",
      "Epoch: 20 | Loss: 0.08908725529909134 | Test loss: 0.21729660034179688\n",
      "OrderedDict([('weights', tensor([0.4184])), ('bias', tensor([0.3333]))])\n",
      "loss: 0.08227583020925522\n",
      "loss: 0.07638873159885406\n",
      "loss: 0.07160007208585739\n",
      "loss: 0.06747635453939438\n",
      "loss: 0.06395438313484192\n",
      "loss: 0.06097004935145378\n",
      "loss: 0.05845819041132927\n",
      "loss: 0.05635259300470352\n",
      "loss: 0.0545857772231102\n",
      "loss: 0.053148526698350906\n",
      "Epoch: 30 | Loss: 0.053148526698350906 | Test loss: 0.14464017748832703\n",
      "OrderedDict([('weights', tensor([0.4512])), ('bias', tensor([0.3768]))])\n",
      "loss: 0.05181945487856865\n",
      "loss: 0.05069301277399063\n",
      "loss: 0.0498228520154953\n",
      "loss: 0.04895269125699997\n",
      "loss: 0.04819351062178612\n",
      "loss: 0.047531817108392715\n",
      "loss: 0.04692792519927025\n",
      "loss: 0.04642331600189209\n",
      "loss: 0.04591871052980423\n",
      "loss: 0.04543796554207802\n",
      "Epoch: 40 | Loss: 0.04543796554207802 | Test loss: 0.11360953003168106\n",
      "OrderedDict([('weights', tensor([0.4748])), ('bias', tensor([0.3868]))])\n",
      "loss: 0.04503796249628067\n",
      "loss: 0.04463795945048332\n",
      "loss: 0.04423796385526657\n",
      "loss: 0.04383796453475952\n",
      "loss: 0.04343796148896217\n",
      "loss: 0.043074630200862885\n",
      "loss: 0.04272563382983208\n",
      "loss: 0.04237663000822067\n",
      "loss: 0.04202762991189957\n",
      "loss: 0.04167863354086876\n",
      "Epoch: 50 | Loss: 0.04167863354086876 | Test loss: 0.09919948130846024\n",
      "OrderedDict([('weights', tensor([0.4938])), ('bias', tensor([0.3843]))])\n",
      "loss: 0.04132963344454765\n",
      "loss: 0.04098063334822655\n",
      "loss: 0.04063162952661514\n",
      "loss: 0.040282636880874634\n",
      "loss: 0.039933640509843826\n",
      "loss: 0.03958464413881302\n",
      "loss: 0.03923564404249191\n",
      "loss: 0.03888664394617081\n",
      "loss: 0.0385376438498497\n",
      "loss: 0.03818932920694351\n",
      "Epoch: 60 | Loss: 0.03818932920694351 | Test loss: 0.08886633068323135\n",
      "OrderedDict([('weights', tensor([0.5116])), ('bias', tensor([0.3788]))])\n",
      "loss: 0.03785243630409241\n",
      "loss: 0.0375034399330616\n",
      "loss: 0.037164121866226196\n",
      "loss: 0.03681822493672371\n",
      "loss: 0.03647511452436447\n",
      "loss: 0.03613303601741791\n",
      "loss: 0.03578609973192215\n",
      "loss: 0.03544783592224121\n",
      "loss: 0.035098835825920105\n",
      "loss: 0.03476089984178543\n",
      "Epoch: 70 | Loss: 0.03476089984178543 | Test loss: 0.0805937647819519\n",
      "OrderedDict([('weights', tensor([0.5288])), ('bias', tensor([0.3718]))])\n",
      "loss: 0.03441363573074341\n",
      "loss: 0.03407188132405281\n",
      "loss: 0.03372843936085701\n",
      "loss: 0.03338287025690079\n",
      "loss: 0.033043231815099716\n",
      "loss: 0.03269423171877861\n",
      "loss: 0.032357655465602875\n",
      "loss: 0.03200903534889221\n",
      "loss: 0.03166864812374115\n",
      "loss: 0.03132382780313492\n",
      "Epoch: 80 | Loss: 0.03132382780313492 | Test loss: 0.07232122868299484\n",
      "OrderedDict([('weights', tensor([0.5459])), ('bias', tensor([0.3648]))])\n",
      "loss: 0.030979642644524574\n",
      "loss: 0.030638623982667923\n",
      "loss: 0.0302906334400177\n",
      "loss: 0.029953425750136375\n",
      "loss: 0.02960442565381527\n",
      "loss: 0.029265418648719788\n",
      "loss: 0.028919223695993423\n",
      "loss: 0.028576409444212914\n",
      "loss: 0.028234025463461876\n",
      "loss: 0.02788739837706089\n",
      "Epoch: 90 | Loss: 0.02788739837706089 | Test loss: 0.06473556160926819\n",
      "OrderedDict([('weights', tensor([0.5629])), ('bias', tensor([0.3573]))])\n",
      "loss: 0.02754882536828518\n",
      "loss: 0.027199819684028625\n",
      "loss: 0.026862185448408127\n",
      "loss: 0.02651461586356163\n",
      "loss: 0.026173178106546402\n",
      "loss: 0.025829419493675232\n",
      "loss: 0.02548416517674923\n",
      "loss: 0.025144213810563087\n",
      "loss: 0.02479521557688713\n",
      "loss: 0.024458957836031914\n",
      "Epoch: 100 | Loss: 0.024458957836031914 | Test loss: 0.05646304413676262\n",
      "OrderedDict([('weights', tensor([0.5800])), ('bias', tensor([0.3503]))])\n",
      "loss: 0.024110013619065285\n",
      "loss: 0.02376994863152504\n",
      "loss: 0.02342480979859829\n",
      "loss: 0.023080935701727867\n",
      "loss: 0.022739607840776443\n",
      "loss: 0.022391926497220993\n",
      "loss: 0.022054409608244896\n",
      "loss: 0.02170540764927864\n",
      "loss: 0.021366719156503677\n",
      "loss: 0.021020207554101944\n",
      "Epoch: 110 | Loss: 0.021020207554101944 | Test loss: 0.04819049686193466\n",
      "OrderedDict([('weights', tensor([0.5972])), ('bias', tensor([0.3433]))])\n",
      "loss: 0.020677709951996803\n",
      "loss: 0.02033500373363495\n",
      "loss: 0.01998869702219963\n",
      "loss: 0.019649803638458252\n",
      "loss: 0.019300809130072594\n",
      "loss: 0.018963487818837166\n",
      "loss: 0.01861560344696045\n",
      "loss: 0.018274478614330292\n",
      "loss: 0.017930403351783752\n",
      "loss: 0.01758546568453312\n",
      "Epoch: 120 | Loss: 0.01758546568453312 | Test loss: 0.04060482233762741\n",
      "OrderedDict([('weights', tensor([0.6141])), ('bias', tensor([0.3358]))])\n",
      "loss: 0.017245199531316757\n",
      "loss: 0.016896454617381096\n",
      "loss: 0.01656000316143036\n",
      "loss: 0.016210997477173805\n",
      "loss: 0.01587124727666378\n",
      "loss: 0.015525798313319683\n",
      "loss: 0.015182236209511757\n",
      "loss: 0.014840595424175262\n",
      "loss: 0.01449323259294033\n",
      "loss: 0.014155393466353416\n",
      "Epoch: 130 | Loss: 0.014155393466353416 | Test loss: 0.03233227878808975\n",
      "OrderedDict([('weights', tensor([0.6313])), ('bias', tensor([0.3288]))])\n",
      "loss: 0.013806397095322609\n",
      "loss: 0.013468016870319843\n",
      "loss: 0.013121193274855614\n",
      "loss: 0.01277900766581297\n",
      "loss: 0.012435992248356342\n",
      "loss: 0.01208999752998352\n",
      "loss: 0.011750795878469944\n",
      "loss: 0.011401787400245667\n",
      "loss: 0.011064787395298481\n",
      "loss: 0.010716589167714119\n",
      "Epoch: 140 | Loss: 0.010716589167714119 | Test loss: 0.024059748277068138\n",
      "OrderedDict([('weights', tensor([0.6485])), ('bias', tensor([0.3218]))])\n",
      "loss: 0.010375778190791607\n",
      "loss: 0.010031387209892273\n",
      "loss: 0.009686763398349285\n",
      "loss: 0.009346187114715576\n",
      "loss: 0.008997755125164986\n",
      "loss: 0.008660981431603432\n",
      "loss: 0.008311985060572624\n",
      "loss: 0.007972544990479946\n",
      "loss: 0.007626785431057215\n",
      "loss: 0.0072835334576666355\n",
      "Epoch: 150 | Loss: 0.0072835334576666355 | Test loss: 0.016474086791276932\n",
      "OrderedDict([('weights', tensor([0.6654])), ('bias', tensor([0.3143]))])\n",
      "loss: 0.006941580679267645\n",
      "loss: 0.006594526115804911\n",
      "loss: 0.006256377790123224\n",
      "loss: 0.005907376762479544\n",
      "loss: 0.005569315515458584\n",
      "loss: 0.005222178064286709\n",
      "loss: 0.004880306776612997\n",
      "loss: 0.004536976106464863\n",
      "loss: 0.00419129803776741\n",
      "loss: 0.0038517764769494534\n",
      "Epoch: 160 | Loss: 0.0038517764769494534 | Test loss: 0.008201557211577892\n",
      "OrderedDict([('weights', tensor([0.6826])), ('bias', tensor([0.3073]))])\n",
      "loss: 0.0035027749836444855\n",
      "loss: 0.0031660839449614286\n",
      "loss: 0.002817571861669421\n",
      "loss: 0.0024770735763013363\n",
      "loss: 0.0021323717664927244\n",
      "loss: 0.0017880648374557495\n",
      "loss: 0.0014518328243866563\n",
      "loss: 0.0011887758737429976\n",
      "loss: 0.0025885067880153656\n",
      "loss: 0.008932482451200485\n",
      "Epoch: 170 | Loss: 0.008932482451200485 | Test loss: 0.005023092031478882\n",
      "OrderedDict([('weights', tensor([0.6951])), ('bias', tensor([0.2993]))])\n",
      "loss: 0.0025885067880153656\n",
      "loss: 0.008932482451200485\n",
      "loss: 0.0025885067880153656\n",
      "loss: 0.008932482451200485\n",
      "loss: 0.0025885067880153656\n",
      "loss: 0.008932482451200485\n",
      "loss: 0.0025885067880153656\n",
      "loss: 0.008932482451200485\n",
      "loss: 0.0025885067880153656\n",
      "loss: 0.008932482451200485\n",
      "Epoch: 180 | Loss: 0.008932482451200485 | Test loss: 0.005023092031478882\n",
      "OrderedDict([('weights', tensor([0.6951])), ('bias', tensor([0.2993]))])\n",
      "loss: 0.0025885067880153656\n",
      "loss: 0.008932482451200485\n",
      "loss: 0.0025885067880153656\n",
      "loss: 0.008932482451200485\n",
      "loss: 0.0025885067880153656\n",
      "loss: 0.008932482451200485\n",
      "loss: 0.0025885067880153656\n",
      "loss: 0.008932482451200485\n",
      "loss: 0.0025885067880153656\n",
      "loss: 0.008932482451200485\n",
      "Epoch: 190 | Loss: 0.008932482451200485 | Test loss: 0.005023092031478882\n",
      "OrderedDict([('weights', tensor([0.6951])), ('bias', tensor([0.2993]))])\n",
      "loss: 0.0025885067880153656\n",
      "loss: 0.008932482451200485\n",
      "loss: 0.0025885067880153656\n",
      "loss: 0.008932482451200485\n",
      "loss: 0.0025885067880153656\n",
      "loss: 0.008932482451200485\n",
      "loss: 0.0025885067880153656\n",
      "loss: 0.008932482451200485\n",
      "loss: 0.0025885067880153656\n"
     ]
    }
   ],
   "source": [
    "epochs = 200# an epoch is a loop thourgh data(this is a hyperparamter)\n",
    "#tracking values\n",
    "epoch_count = []\n",
    "loss_values = []\n",
    "test_loss_values = []\n",
    "#0. loop thourgh the data\n",
    "for epoch in range(epochs):\n",
    "    #set the model to training mode\n",
    "    model_0.train() # train mode sets all parameters that require grdaents to req gradients\n",
    "    #1. forward pass\n",
    "    y_pred = model_0(X_train)\n",
    "    #2. calc the loss\n",
    "    loss = loss_fn(y_pred, y_train) #input first then actual labels/ ground trth values\n",
    "    print(f\"loss: {loss}\")\n",
    "    #3. optimizer zero grad\n",
    "    optimizer.zero_grad()\n",
    "\n",
    "    #4. perform backprog on the los iwth respec to the paramters othe model\n",
    "    loss.backward()\n",
    "    #5. step the optimizer (perform grad desecent)\n",
    "    optimizer.step() #ny default he optimzer changes accumulat e thourgh the loop... so we have to zero them above in the step3 of the loop\n",
    "\n",
    "    model_0.eval()# turns off graident tracking also (dropout/ batchnorm layers)\n",
    "    with torch.inference_mode():\n",
    "        #1. forward pass\n",
    "        test_pred = model_0(X_test)\n",
    "\n",
    "        #2. calc the loss\n",
    "        test_loss = loss_fn(test_pred, y_test)\n",
    "    if epoch % 10 == 0:\n",
    "        epoch_count.append(epoch)\n",
    "        loss_values.append(loss)\n",
    "        test_loss_values.append(test_loss)\n",
    "        print(f\"Epoch: {epoch} | Loss: {loss} | Test loss: {test_loss}\")\n",
    "        print(model_0.state_dict())"
   ]
  },
  {
   "cell_type": "code",
   "execution_count": 321,
   "metadata": {},
   "outputs": [
    {
     "data": {
      "text/plain": [
       "<matplotlib.legend.Legend at 0x7f1040592990>"
      ]
     },
     "execution_count": 321,
     "metadata": {},
     "output_type": "execute_result"
    },
    {
     "data": {
      "image/png": "[encoded data removed]",
      "text/plain": [
       "<Figure size 640x480 with 1 Axes>"
      ]
     },
     "metadata": {},
     "output_type": "display_data"
    }
   ],
   "source": [
    "#plot the loss curves\n",
    "import numpy as np\n",
    "plt.plot(epoch_count,np.array(torch.tensor(loss_values).numpy()), label = \"train loss\")\n",
    "plt.plot(epoch_count, test_loss_values, label = \"test loss\")\n",
    "plt.ylabel(\"loss\")\n",
    "plt.xlabel(\"Epochs\")\n",
    "plt.legend()"
   ]
  },
  {
   "cell_type": "code",
   "execution_count": 322,
   "metadata": {},
   "outputs": [
    {
     "data": {
      "text/plain": [
       "OrderedDict([('weights', tensor([0.6990])), ('bias', tensor([0.3093]))])"
      ]
     },
     "execution_count": 322,
     "metadata": {},
     "output_type": "execute_result"
    }
   ],
   "source": [
    "model_0.state_dict()"
   ]
  },
  {
   "cell_type": "code",
   "execution_count": 323,
   "metadata": {},
   "outputs": [
    {
     "data": {
      "text/plain": [
       "(0.7, 0.3)"
      ]
     },
     "execution_count": 323,
     "metadata": {},
     "output_type": "execute_result"
    }
   ],
   "source": [
    "weight, bias"
   ]
  },
  {
   "cell_type": "code",
   "execution_count": 324,
   "metadata": {},
   "outputs": [],
   "source": [
    "with torch.inference_mode():\n",
    "    y_preds_new = model_0(X_test)\n",
    "    "
   ]
  },
  {
   "cell_type": "code",
   "execution_count": 325,
   "metadata": {},
   "outputs": [
    {
     "data": {
      "image/png": "[encoded data removed]",
      "text/plain": [
       "<Figure size 1000x700 with 1 Axes>"
      ]
     },
     "metadata": {},
     "output_type": "display_data"
    }
   ],
   "source": [
    "plot_predictions(predictions=y_preds_new)"
   ]
  },
  {
   "cell_type": "code",
   "execution_count": null,
   "metadata": {},
   "outputs": [],
   "source": []
  }
 ],
 "metadata": {
  "kernelspec": {
   "display_name": "Python 3",
   "language": "python",
   "name": "python3"
  },
  "language_info": {
   "codemirror_mode": {
    "name": "ipython",
    "version": 3
   },
   "file_extension": ".py",
   "mimetype": "text/x-python",
   "name": "python",
   "nbconvert_exporter": "python",
   "pygments_lexer": "ipython3",
   "version": "3.11.5"
  },
  "orig_nbformat": 4
 },
 "nbformat": 4,
 "nbformat_minor": 2
}
